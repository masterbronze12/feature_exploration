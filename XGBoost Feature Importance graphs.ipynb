{
 "cells": [
  {
   "cell_type": "code",
   "execution_count": 19,
   "id": "binding-mystery",
   "metadata": {
    "ExecuteTime": {
     "end_time": "2021-09-21T10:16:42.632527Z",
     "start_time": "2021-09-21T10:16:42.430621Z"
    }
   },
   "outputs": [],
   "source": [
    "from xgboost import XGBClassifier\n",
    "from xgboost import plot_importance\n",
    "from sklearn.model_selection import train_test_split\n",
    "%matplotlib inline\n",
    "import numpy as np\n",
    "import pandas as pd\n",
    "import matplotlib.pyplot as plt\n",
    "import seaborn as sns"
   ]
  },
  {
   "cell_type": "code",
   "execution_count": 3,
   "id": "coated-cedar",
   "metadata": {
    "ExecuteTime": {
     "end_time": "2021-09-21T10:11:21.731215Z",
     "start_time": "2021-09-21T10:11:21.724461Z"
    }
   },
   "outputs": [],
   "source": [
    "df=pd.read_csv(\"iris.csv\")"
   ]
  },
  {
   "cell_type": "code",
   "execution_count": 6,
   "id": "random-separate",
   "metadata": {
    "ExecuteTime": {
     "end_time": "2021-09-21T10:11:55.646763Z",
     "start_time": "2021-09-21T10:11:55.636600Z"
    }
   },
   "outputs": [
    {
     "data": {
      "text/html": [
       "<div>\n",
       "<style scoped>\n",
       "    .dataframe tbody tr th:only-of-type {\n",
       "        vertical-align: middle;\n",
       "    }\n",
       "\n",
       "    .dataframe tbody tr th {\n",
       "        vertical-align: top;\n",
       "    }\n",
       "\n",
       "    .dataframe thead th {\n",
       "        text-align: right;\n",
       "    }\n",
       "</style>\n",
       "<table border=\"1\" class=\"dataframe\">\n",
       "  <thead>\n",
       "    <tr style=\"text-align: right;\">\n",
       "      <th></th>\n",
       "      <th>sepal_length</th>\n",
       "      <th>sepal_width</th>\n",
       "      <th>petal_length</th>\n",
       "      <th>petal_width</th>\n",
       "      <th>species</th>\n",
       "    </tr>\n",
       "  </thead>\n",
       "  <tbody>\n",
       "    <tr>\n",
       "      <th>0</th>\n",
       "      <td>5.1</td>\n",
       "      <td>3.5</td>\n",
       "      <td>1.4</td>\n",
       "      <td>0.2</td>\n",
       "      <td>setosa</td>\n",
       "    </tr>\n",
       "    <tr>\n",
       "      <th>1</th>\n",
       "      <td>4.9</td>\n",
       "      <td>3.0</td>\n",
       "      <td>1.4</td>\n",
       "      <td>0.2</td>\n",
       "      <td>setosa</td>\n",
       "    </tr>\n",
       "    <tr>\n",
       "      <th>2</th>\n",
       "      <td>4.7</td>\n",
       "      <td>3.2</td>\n",
       "      <td>1.3</td>\n",
       "      <td>0.2</td>\n",
       "      <td>setosa</td>\n",
       "    </tr>\n",
       "    <tr>\n",
       "      <th>3</th>\n",
       "      <td>4.6</td>\n",
       "      <td>3.1</td>\n",
       "      <td>1.5</td>\n",
       "      <td>0.2</td>\n",
       "      <td>setosa</td>\n",
       "    </tr>\n",
       "    <tr>\n",
       "      <th>4</th>\n",
       "      <td>5.0</td>\n",
       "      <td>3.6</td>\n",
       "      <td>1.4</td>\n",
       "      <td>0.2</td>\n",
       "      <td>setosa</td>\n",
       "    </tr>\n",
       "  </tbody>\n",
       "</table>\n",
       "</div>"
      ],
      "text/plain": [
       "   sepal_length  sepal_width  petal_length  petal_width species\n",
       "0           5.1          3.5           1.4          0.2  setosa\n",
       "1           4.9          3.0           1.4          0.2  setosa\n",
       "2           4.7          3.2           1.3          0.2  setosa\n",
       "3           4.6          3.1           1.5          0.2  setosa\n",
       "4           5.0          3.6           1.4          0.2  setosa"
      ]
     },
     "execution_count": 6,
     "metadata": {},
     "output_type": "execute_result"
    }
   ],
   "source": [
    "df.head()"
   ]
  },
  {
   "cell_type": "code",
   "execution_count": 12,
   "id": "amazing-gabriel",
   "metadata": {
    "ExecuteTime": {
     "end_time": "2021-09-21T10:14:49.142248Z",
     "start_time": "2021-09-21T10:14:49.139005Z"
    }
   },
   "outputs": [],
   "source": [
    "df[\"species\"] = df[\"species\"].factorize()[0]"
   ]
  },
  {
   "cell_type": "code",
   "execution_count": 13,
   "id": "animal-shannon",
   "metadata": {
    "ExecuteTime": {
     "end_time": "2021-09-21T10:14:50.355605Z",
     "start_time": "2021-09-21T10:14:50.350394Z"
    }
   },
   "outputs": [],
   "source": [
    "X_train, X_test, y_train, y_test = train_test_split(df.drop(labels=['species'], axis=1),df['species'],test_size=0.3,random_state=12)"
   ]
  },
  {
   "cell_type": "code",
   "execution_count": 17,
   "id": "systematic-agenda",
   "metadata": {
    "ExecuteTime": {
     "end_time": "2021-09-21T10:16:24.760876Z",
     "start_time": "2021-09-21T10:16:24.621833Z"
    }
   },
   "outputs": [
    {
     "name": "stdout",
     "output_type": "stream",
     "text": [
      "[13:16:24] WARNING: /Users/travis/build/dmlc/xgboost/src/learner.cc:1061: Starting in XGBoost 1.3.0, the default evaluation metric used with the objective 'multi:softprob' was changed from 'merror' to 'mlogloss'. Explicitly set eval_metric if you'd like to restore the old behavior.\n"
     ]
    },
    {
     "name": "stderr",
     "output_type": "stream",
     "text": [
      "/Library/Frameworks/Python.framework/Versions/3.7/lib/python3.7/site-packages/xgboost/sklearn.py:888: UserWarning: The use of label encoder in XGBClassifier is deprecated and will be removed in a future release. To remove this warning, do the following: 1) Pass option use_label_encoder=False when constructing XGBClassifier object; and 2) Encode your labels (y) as integers starting with 0, i.e. 0, 1, 2, ..., [num_class - 1].\n",
      "  warnings.warn(label_encoder_deprecation_msg, UserWarning)\n"
     ]
    }
   ],
   "source": [
    "classifier = XGBClassifier(random_state=123)\n",
    "model = classifier.fit(X_train, y_train)"
   ]
  },
  {
   "cell_type": "code",
   "execution_count": null,
   "id": "familiar-thing",
   "metadata": {
    "ExecuteTime": {
     "end_time": "2021-09-21T10:13:51.534757Z",
     "start_time": "2021-09-21T10:13:51.510330Z"
    }
   },
   "outputs": [],
   "source": []
  },
  {
   "cell_type": "code",
   "execution_count": 21,
   "id": "mental-ready",
   "metadata": {
    "ExecuteTime": {
     "end_time": "2021-09-21T10:17:51.310596Z",
     "start_time": "2021-09-21T10:17:50.417258Z"
    }
   },
   "outputs": [
    {
     "name": "stdout",
     "output_type": "stream",
     "text": [
      "       Features  weight      gain     cover  total_gain  total_cover  f-score\n",
      "0  petal_length     131  2.761083  9.931269  361.701927  1300.996229      131\n",
      "1   petal_width     112  0.456920  7.043550   51.175093   788.877613      112\n",
      "2  sepal_length      58  0.080412  3.242073    4.663888   188.040244       58\n",
      "3   sepal_width      68  0.070053  3.328076    4.763591   226.309166       68\n"
     ]
    },
    {
     "data": {
      "text/plain": [
       "'z = df.columns\\nfor i in z:\\n    sns.displot(df, x=str(i), hue=\"y\",bins=20)'"
      ]
     },
     "execution_count": 21,
     "metadata": {},
     "output_type": "execute_result"
    },
    {
     "data": {
      "image/png": "[encoded data removed]",
      "text/plain": [
       "<Figure size 432x288 with 1 Axes>"
      ]
     },
     "metadata": {
      "needs_background": "light"
     },
     "output_type": "display_data"
    },
    {
     "data": {
      "image/png": "[encoded data removed]",
      "text/plain": [
       "<Figure size 432x288 with 1 Axes>"
      ]
     },
     "metadata": {
      "needs_background": "light"
     },
     "output_type": "display_data"
    },
    {
     "data": {
      "image/png": "[encoded data removed]",
      "text/plain": [
       "<Figure size 432x288 with 1 Axes>"
      ]
     },
     "metadata": {
      "needs_background": "light"
     },
     "output_type": "display_data"
    },
    {
     "data": {
      "image/png": "[encoded data removed]",
      "text/plain": [
       "<Figure size 432x288 with 1 Axes>"
      ]
     },
     "metadata": {
      "needs_background": "light"
     },
     "output_type": "display_data"
    },
    {
     "data": {
      "image/png": "[encoded data removed]",
      "text/plain": [
       "<Figure size 432x288 with 1 Axes>"
      ]
     },
     "metadata": {
      "needs_background": "light"
     },
     "output_type": "display_data"
    },
    {
     "data": {
      "image/png": "[encoded data removed]",
      "text/plain": [
       "<Figure size 432x288 with 1 Axes>"
      ]
     },
     "metadata": {
      "needs_background": "light"
     },
     "output_type": "display_data"
    }
   ],
   "source": [
    "#-----------  Feature Importance Calculation (Xgboost) ------------#\n",
    "\n",
    "a=model.get_booster().get_score(importance_type='weight')\n",
    "weight =pd.DataFrame(a.items(), columns=['Features', 'weight'])\n",
    "\n",
    "a=model.get_booster().get_score(importance_type='gain')\n",
    "gain =pd.DataFrame(a.items(), columns=['Features', 'gain'])\n",
    "\n",
    "a=model.get_booster().get_score(importance_type='cover')\n",
    "cover =pd.DataFrame(a.items(), columns=['Features', 'cover'])\n",
    "\n",
    "a=model.get_booster().get_score(importance_type='total_gain')\n",
    "total_gain =pd.DataFrame(a.items(), columns=['Features', 'total_gain'])\n",
    "\n",
    "a=model.get_booster().get_score(importance_type='total_cover')\n",
    "total_cover =pd.DataFrame(a.items(), columns=['Features', 'total_cover'])\n",
    "\n",
    "a=model.get_booster().get_fscore()\n",
    "fscore =pd.DataFrame(a.items(), columns=['Features', 'f-score'])\n",
    "\n",
    "gw=pd.merge(weight, gain, how='inner', on=['Features'])\n",
    "\n",
    "ct=pd.merge(cover, total_gain, how='inner', on=['Features'])\n",
    "\n",
    "gc=pd.merge(gw, ct, how='inner', on=['Features'])\n",
    "\n",
    "bb=pd.merge(gc, total_cover, how='inner', on=['Features'])\n",
    "\n",
    "feature_importance=pd.merge(bb, fscore, how='inner', on=['Features'])\n",
    "\n",
    "del a, gw, ct, gc, bb, fscore, weight, gain, total_gain,total_cover\n",
    "\n",
    "print(feature_importance)\n",
    "a=feature_importance.columns\n",
    "a=a.drop(\"Features\")\n",
    "for i in a:\n",
    "    feature_importance.head(20)[[\"Features\",str(i)]].sort_values(by=str(i),ascending=True).plot(\"Features\",kind='barh')\n",
    "    plt.legend(loc='lower right')\n",
    "    \n",
    "\"\"\"z = df.columns\n",
    "for i in z:\n",
    "    sns.displot(df, x=str(i), hue=\"y\",bins=20)\"\"\""
   ]
  },
  {
   "cell_type": "code",
   "execution_count": null,
   "id": "supreme-station",
   "metadata": {},
   "outputs": [],
   "source": []
  }
 ],
 "metadata": {
  "kernelspec": {
   "display_name": "Python 3",
   "language": "python",
   "name": "python3"
  },
  "language_info": {
   "codemirror_mode": {
    "name": "ipython",
    "version": 3
   },
   "file_extension": ".py",
   "mimetype": "text/x-python",
   "name": "python",
   "nbconvert_exporter": "python",
   "pygments_lexer": "ipython3",
   "version": "3.7.1"
  },
  "toc": {
   "base_numbering": 1,
   "nav_menu": {},
   "number_sections": true,
   "sideBar": true,
   "skip_h1_title": false,
   "title_cell": "Table of Contents",
   "title_sidebar": "Contents",
   "toc_cell": false,
   "toc_position": {},
   "toc_section_display": true,
   "toc_window_display": false
  },
  "varInspector": {
   "cols": {
    "lenName": 16,
    "lenType": 16,
    "lenVar": 40
   },
   "kernels_config": {
    "python": {
     "delete_cmd_postfix": "",
     "delete_cmd_prefix": "del ",
     "library": "var_list.py",
     "varRefreshCmd": "print(var_dic_list())"
    },
    "r": {
     "delete_cmd_postfix": ") ",
     "delete_cmd_prefix": "rm(",
     "library": "var_list.r",
     "varRefreshCmd": "cat(var_dic_list()) "
    }
   },
   "types_to_exclude": [
    "module",
    "function",
    "builtin_function_or_method",
    "instance",
    "_Feature"
   ],
   "window_display": false
  }
 },
 "nbformat": 4,
 "nbformat_minor": 5
}
